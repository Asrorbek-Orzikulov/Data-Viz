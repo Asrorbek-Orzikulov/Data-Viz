{
 "cells": [
  {
   "cell_type": "markdown",
   "id": "908a7421",
   "metadata": {},
   "source": [
    "## Yelp Dataset : Preprocessing\n",
    "JSON files consisting of reviews, businesses and users data is available publicly on https://www.yelp.com/dataset. We downloaded the dataset, and inorder to Query it, we used MongoDB where we created a Yelp database to be used for querying."
   ]
  },
  {
   "cell_type": "code",
   "execution_count": null,
   "id": "4fbaf117",
   "metadata": {},
   "outputs": [],
   "source": [
    "import pandas as pd\n",
    "import numpy as np\n",
    "import matplotlib.pyplot as plt\n",
    "from pymongo import MongoClient\n",
    "client = MongoClient('localhost', 27017) # Establishing connection to local MongoDB server\n",
    "db = client['Yelp']"
   ]
  },
  {
   "cell_type": "markdown",
   "id": "e2dcb6a0",
   "metadata": {},
   "source": [
    "## Since the dataset is too large, we will extract a subset of the dataset.\n",
    "### For this EDA we will only consider the data from Jan1st 2020"
   ]
  },
  {
   "cell_type": "code",
   "execution_count": null,
   "id": "0ea8cefb",
   "metadata": {},
   "outputs": [],
   "source": [
    "#### Qurying Review data for the year 2020 alone and converting it into a DataFrame\n",
    "from bson.json_util import dumps, loads\n",
    "reviews = db.reviews.find({\"$and\" : [ {\"date\" : {\"$gte\" : \"2020-01-01\"}}, {\"date\" : {\"$lte\" : \"2020-12-31\"}} ] })\n",
    "list_reviews = list(reviews)\n",
    "reviews_df = pd.DataFrame(list_reviews)\n",
    "reviews_df.drop([\"_id\"], axis=1, inplace=True)\n",
    "reviews_df = reviews_df.astype({\"business_id\" : str})\n",
    "reviews_df.info()"
   ]
  },
  {
   "cell_type": "code",
   "execution_count": null,
   "id": "d43fad18",
   "metadata": {},
   "outputs": [],
   "source": [
    "#### Qurying data about businesses and converting it into a DataFrame\n",
    "businesses = db.businesses.find()\n",
    "businesses = list(businesses)\n",
    "bus_df = pd.DataFrame(businesses)\n",
    "bus_df = bus_df.rename(columns={\"stars\" : \"avg_stars\"})\n",
    "bus_df.drop([\"_id\"], axis=1, inplace=True)\n",
    "bus_df = bus_df.astype({\"business_id\" : str})\n",
    "bus_df.info()"
   ]
  },
  {
   "cell_type": "code",
   "execution_count": null,
   "id": "9fc41ed5",
   "metadata": {},
   "outputs": [],
   "source": [
    "#### Merging reviews and businesses dataframes on business ID\n",
    "data_df = reviews_df.merge(bus_df, on=[\"business_id\"], how='left')"
   ]
  },
  {
   "cell_type": "code",
   "execution_count": null,
   "id": "6fdb9cb8",
   "metadata": {},
   "outputs": [],
   "source": [
    "#### Converting the merged data into a CSV file\n",
    "data_df.to_csv(\"yelpData2020.csv\")"
   ]
  }
 ],
 "metadata": {
  "kernelspec": {
   "display_name": "Python 3",
   "language": "python",
   "name": "python3"
  },
  "language_info": {
   "codemirror_mode": {
    "name": "ipython",
    "version": 3
   },
   "file_extension": ".py",
   "mimetype": "text/x-python",
   "name": "python",
   "nbconvert_exporter": "python",
   "pygments_lexer": "ipython3",
   "version": "3.8.8"
  }
 },
 "nbformat": 4,
 "nbformat_minor": 5
}
